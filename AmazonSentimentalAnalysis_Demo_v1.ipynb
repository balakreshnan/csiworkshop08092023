{
  "cells": [
    {
      "cell_type": "code",
      "source": [
        "!pip install openai\n",
        "!pip install shap\n",
        "!pip install tqdm\n",
        "!pip install openpyxl\n",
        "!pip install langchain"
      ],
      "outputs": [
        {
          "output_type": "stream",
          "name": "stdout",
          "text": "Requirement already satisfied: openai in /anaconda/envs/azureml_py38/lib/python3.8/site-packages (0.27.8)\nRequirement already satisfied: requests>=2.20 in /anaconda/envs/azureml_py38/lib/python3.8/site-packages (from openai) (2.31.0)\nRequirement already satisfied: tqdm in /anaconda/envs/azureml_py38/lib/python3.8/site-packages (from openai) (4.65.0)\nRequirement already satisfied: aiohttp in /anaconda/envs/azureml_py38/lib/python3.8/site-packages (from openai) (3.8.4)\nRequirement already satisfied: charset-normalizer<4,>=2 in /anaconda/envs/azureml_py38/lib/python3.8/site-packages (from requests>=2.20->openai) (3.1.0)\nRequirement already satisfied: idna<4,>=2.5 in /anaconda/envs/azureml_py38/lib/python3.8/site-packages (from requests>=2.20->openai) (3.4)\nRequirement already satisfied: urllib3<3,>=1.21.1 in /anaconda/envs/azureml_py38/lib/python3.8/site-packages (from requests>=2.20->openai) (1.26.16)\nRequirement already satisfied: certifi>=2017.4.17 in /anaconda/envs/azureml_py38/lib/python3.8/site-packages (from requests>=2.20->openai) (2022.9.24)\nRequirement already satisfied: aiosignal>=1.1.2 in /anaconda/envs/azureml_py38/lib/python3.8/site-packages (from aiohttp->openai) (1.3.1)\nRequirement already satisfied: frozenlist>=1.1.1 in /anaconda/envs/azureml_py38/lib/python3.8/site-packages (from aiohttp->openai) (1.3.3)\nRequirement already satisfied: attrs>=17.3.0 in /anaconda/envs/azureml_py38/lib/python3.8/site-packages (from aiohttp->openai) (23.1.0)\nRequirement already satisfied: yarl<2.0,>=1.0 in /anaconda/envs/azureml_py38/lib/python3.8/site-packages (from aiohttp->openai) (1.9.2)\nRequirement already satisfied: async-timeout<5.0,>=4.0.0a3 in /anaconda/envs/azureml_py38/lib/python3.8/site-packages (from aiohttp->openai) (4.0.2)\nRequirement already satisfied: multidict<7.0,>=4.5 in /anaconda/envs/azureml_py38/lib/python3.8/site-packages (from aiohttp->openai) (6.0.4)\nRequirement already satisfied: shap in /anaconda/envs/azureml_py38/lib/python3.8/site-packages (0.39.0)\nRequirement already satisfied: numpy in /anaconda/envs/azureml_py38/lib/python3.8/site-packages (from shap) (1.21.6)\nRequirement already satisfied: pandas in /anaconda/envs/azureml_py38/lib/python3.8/site-packages (from shap) (1.1.5)\nRequirement already satisfied: scipy in /anaconda/envs/azureml_py38/lib/python3.8/site-packages (from shap) (1.5.3)\nRequirement already satisfied: numba in /anaconda/envs/azureml_py38/lib/python3.8/site-packages (from shap) (0.55.2)\nRequirement already satisfied: tqdm>4.25.0 in /anaconda/envs/azureml_py38/lib/python3.8/site-packages (from shap) (4.65.0)\nRequirement already satisfied: cloudpickle in /anaconda/envs/azureml_py38/lib/python3.8/site-packages (from shap) (1.6.0)\nRequirement already satisfied: scikit-learn in /anaconda/envs/azureml_py38/lib/python3.8/site-packages (from shap) (1.3.0)\nRequirement already satisfied: slicer==0.0.7 in /anaconda/envs/azureml_py38/lib/python3.8/site-packages (from shap) (0.0.7)\nRequirement already satisfied: python-dateutil>=2.7.3 in /anaconda/envs/azureml_py38/lib/python3.8/site-packages (from pandas->shap) (2.8.2)\nRequirement already satisfied: pytz>=2017.2 in /anaconda/envs/azureml_py38/lib/python3.8/site-packages (from pandas->shap) (2022.5)\nRequirement already satisfied: setuptools in /anaconda/envs/azureml_py38/lib/python3.8/site-packages (from numba->shap) (65.6.3)\nRequirement already satisfied: llvmlite<0.39,>=0.38.0rc1 in /anaconda/envs/azureml_py38/lib/python3.8/site-packages (from numba->shap) (0.38.1)\nRequirement already satisfied: threadpoolctl>=2.0.0 in /anaconda/envs/azureml_py38/lib/python3.8/site-packages (from scikit-learn->shap) (3.1.0)\nRequirement already satisfied: joblib>=1.1.1 in /anaconda/envs/azureml_py38/lib/python3.8/site-packages (from scikit-learn->shap) (1.2.0)\nRequirement already satisfied: six>=1.5 in /anaconda/envs/azureml_py38/lib/python3.8/site-packages (from python-dateutil>=2.7.3->pandas->shap) (1.16.0)\nRequirement already satisfied: tqdm in /anaconda/envs/azureml_py38/lib/python3.8/site-packages (4.65.0)\nCollecting openpyxl\n  Downloading openpyxl-3.1.2-py2.py3-none-any.whl (249 kB)\n\u001b[K     |████████████████████████████████| 249 kB 4.6 MB/s eta 0:00:01\n\u001b[?25hCollecting et-xmlfile\n  Downloading et_xmlfile-1.1.0-py3-none-any.whl (4.7 kB)\nInstalling collected packages: et-xmlfile, openpyxl\nSuccessfully installed et-xmlfile-1.1.0 openpyxl-3.1.2\n"
        }
      ],
      "execution_count": 25,
      "metadata": {
        "jupyter": {
          "source_hidden": false,
          "outputs_hidden": false
        },
        "nteract": {
          "transient": {
            "deleting": false
          }
        }
      }
    },
    {
      "cell_type": "code",
      "source": [
        "#Note: The openai-python library support for Azure OpenAI is in preview.\n",
        "import os\n",
        "import openai\n",
        "import matplotlib.pyplot as plt\n",
        "#!pip install mltable\n",
        "#!pip install azure.ai.ml\n",
        "import shap\n",
        "import sklearn\n",
        "import pandas as pd\n",
        "# import shap\n",
        "import sklearn\n",
        "import pandas as pd\n",
        "import mlflow\n",
        "import time\n",
        "from tqdm import tqdm\n",
        "from sklearn.model_selection import train_test_split\n",
        "from sklearn.ensemble import RandomForestClassifier\n",
        "\n",
        "from sklearn.model_selection import train_test_split\n",
        "from sklearn.ensemble import RandomForestRegressor\n",
        "\n",
        "from langchain.chat_models import AzureChatOpenAI"
      ],
      "outputs": [],
      "execution_count": 2,
      "metadata": {
        "gather": {
          "logged": 1691609828097
        }
      }
    },
    {
      "cell_type": "code",
      "source": [
        "data_df = pd.read_csv('data/1429_1.csv')\n",
        "data_df.head()"
      ],
      "outputs": [
        {
          "output_type": "stream",
          "name": "stderr",
          "text": "Columns (1,10) have mixed types.Specify dtype option on import or set low_memory=False.\n"
        },
        {
          "output_type": "execute_result",
          "execution_count": 3,
          "data": {
            "text/plain": "                     id                                               name  \\\n0  AVqkIhwDv8e3D1O-lebb  All-New Fire HD 8 Tablet, 8 HD Display, Wi-Fi,...   \n1  AVqkIhwDv8e3D1O-lebb  All-New Fire HD 8 Tablet, 8 HD Display, Wi-Fi,...   \n2  AVqkIhwDv8e3D1O-lebb  All-New Fire HD 8 Tablet, 8 HD Display, Wi-Fi,...   \n3  AVqkIhwDv8e3D1O-lebb  All-New Fire HD 8 Tablet, 8 HD Display, Wi-Fi,...   \n4  AVqkIhwDv8e3D1O-lebb  All-New Fire HD 8 Tablet, 8 HD Display, Wi-Fi,...   \n\n        asins   brand                                         categories  \\\n0  B01AHB9CN2  Amazon  Electronics,iPad & Tablets,All Tablets,Fire Ta...   \n1  B01AHB9CN2  Amazon  Electronics,iPad & Tablets,All Tablets,Fire Ta...   \n2  B01AHB9CN2  Amazon  Electronics,iPad & Tablets,All Tablets,Fire Ta...   \n3  B01AHB9CN2  Amazon  Electronics,iPad & Tablets,All Tablets,Fire Ta...   \n4  B01AHB9CN2  Amazon  Electronics,iPad & Tablets,All Tablets,Fire Ta...   \n\n                                                keys manufacturer  \\\n0  841667104676,amazon/53004484,amazon/b01ahb9cn2...       Amazon   \n1  841667104676,amazon/53004484,amazon/b01ahb9cn2...       Amazon   \n2  841667104676,amazon/53004484,amazon/b01ahb9cn2...       Amazon   \n3  841667104676,amazon/53004484,amazon/b01ahb9cn2...       Amazon   \n4  841667104676,amazon/53004484,amazon/b01ahb9cn2...       Amazon   \n\n               reviews.date     reviews.dateAdded  \\\n0  2017-01-13T00:00:00.000Z  2017-07-03T23:33:15Z   \n1  2017-01-13T00:00:00.000Z  2017-07-03T23:33:15Z   \n2  2017-01-13T00:00:00.000Z  2017-07-03T23:33:15Z   \n3  2017-01-13T00:00:00.000Z  2017-07-03T23:33:15Z   \n4  2017-01-12T00:00:00.000Z  2017-07-03T23:33:15Z   \n\n                                    reviews.dateSeen  ... reviews.doRecommend  \\\n0  2017-06-07T09:04:00.000Z,2017-04-30T00:45:00.000Z  ...                True   \n1  2017-06-07T09:04:00.000Z,2017-04-30T00:45:00.000Z  ...                True   \n2  2017-06-07T09:04:00.000Z,2017-04-30T00:45:00.000Z  ...                True   \n3  2017-06-07T09:04:00.000Z,2017-04-30T00:45:00.000Z  ...                True   \n4  2017-06-07T09:04:00.000Z,2017-04-30T00:45:00.000Z  ...                True   \n\n  reviews.id  reviews.numHelpful  reviews.rating  \\\n0        NaN                 0.0             5.0   \n1        NaN                 0.0             5.0   \n2        NaN                 0.0             5.0   \n3        NaN                 0.0             4.0   \n4        NaN                 0.0             5.0   \n\n                                  reviews.sourceURLs  \\\n0  http://reviews.bestbuy.com/3545/5620406/review...   \n1  http://reviews.bestbuy.com/3545/5620406/review...   \n2  http://reviews.bestbuy.com/3545/5620406/review...   \n3  http://reviews.bestbuy.com/3545/5620406/review...   \n4  http://reviews.bestbuy.com/3545/5620406/review...   \n\n                                        reviews.text  \\\n0  This product so far has not disappointed. My c...   \n1  great for beginner or experienced person. Boug...   \n2  Inexpensive tablet for him to use and learn on...   \n3  I've had my Fire HD 8 two weeks now and I love...   \n4  I bought this for my grand daughter when she c...   \n\n                             reviews.title reviews.userCity  \\\n0                                   Kindle              NaN   \n1                                very fast              NaN   \n2  Beginner tablet for our 9 year old son.              NaN   \n3                                  Good!!!              NaN   \n4                Fantastic Tablet for kids              NaN   \n\n   reviews.userProvince  reviews.username  \n0                   NaN           Adapter  \n1                   NaN            truman  \n2                   NaN             DaveZ  \n3                   NaN            Shacks  \n4                   NaN         explore42  \n\n[5 rows x 21 columns]",
            "text/html": "<div>\n<style scoped>\n    .dataframe tbody tr th:only-of-type {\n        vertical-align: middle;\n    }\n\n    .dataframe tbody tr th {\n        vertical-align: top;\n    }\n\n    .dataframe thead th {\n        text-align: right;\n    }\n</style>\n<table border=\"1\" class=\"dataframe\">\n  <thead>\n    <tr style=\"text-align: right;\">\n      <th></th>\n      <th>id</th>\n      <th>name</th>\n      <th>asins</th>\n      <th>brand</th>\n      <th>categories</th>\n      <th>keys</th>\n      <th>manufacturer</th>\n      <th>reviews.date</th>\n      <th>reviews.dateAdded</th>\n      <th>reviews.dateSeen</th>\n      <th>...</th>\n      <th>reviews.doRecommend</th>\n      <th>reviews.id</th>\n      <th>reviews.numHelpful</th>\n      <th>reviews.rating</th>\n      <th>reviews.sourceURLs</th>\n      <th>reviews.text</th>\n      <th>reviews.title</th>\n      <th>reviews.userCity</th>\n      <th>reviews.userProvince</th>\n      <th>reviews.username</th>\n    </tr>\n  </thead>\n  <tbody>\n    <tr>\n      <th>0</th>\n      <td>AVqkIhwDv8e3D1O-lebb</td>\n      <td>All-New Fire HD 8 Tablet, 8 HD Display, Wi-Fi,...</td>\n      <td>B01AHB9CN2</td>\n      <td>Amazon</td>\n      <td>Electronics,iPad &amp; Tablets,All Tablets,Fire Ta...</td>\n      <td>841667104676,amazon/53004484,amazon/b01ahb9cn2...</td>\n      <td>Amazon</td>\n      <td>2017-01-13T00:00:00.000Z</td>\n      <td>2017-07-03T23:33:15Z</td>\n      <td>2017-06-07T09:04:00.000Z,2017-04-30T00:45:00.000Z</td>\n      <td>...</td>\n      <td>True</td>\n      <td>NaN</td>\n      <td>0.0</td>\n      <td>5.0</td>\n      <td>http://reviews.bestbuy.com/3545/5620406/review...</td>\n      <td>This product so far has not disappointed. My c...</td>\n      <td>Kindle</td>\n      <td>NaN</td>\n      <td>NaN</td>\n      <td>Adapter</td>\n    </tr>\n    <tr>\n      <th>1</th>\n      <td>AVqkIhwDv8e3D1O-lebb</td>\n      <td>All-New Fire HD 8 Tablet, 8 HD Display, Wi-Fi,...</td>\n      <td>B01AHB9CN2</td>\n      <td>Amazon</td>\n      <td>Electronics,iPad &amp; Tablets,All Tablets,Fire Ta...</td>\n      <td>841667104676,amazon/53004484,amazon/b01ahb9cn2...</td>\n      <td>Amazon</td>\n      <td>2017-01-13T00:00:00.000Z</td>\n      <td>2017-07-03T23:33:15Z</td>\n      <td>2017-06-07T09:04:00.000Z,2017-04-30T00:45:00.000Z</td>\n      <td>...</td>\n      <td>True</td>\n      <td>NaN</td>\n      <td>0.0</td>\n      <td>5.0</td>\n      <td>http://reviews.bestbuy.com/3545/5620406/review...</td>\n      <td>great for beginner or experienced person. Boug...</td>\n      <td>very fast</td>\n      <td>NaN</td>\n      <td>NaN</td>\n      <td>truman</td>\n    </tr>\n    <tr>\n      <th>2</th>\n      <td>AVqkIhwDv8e3D1O-lebb</td>\n      <td>All-New Fire HD 8 Tablet, 8 HD Display, Wi-Fi,...</td>\n      <td>B01AHB9CN2</td>\n      <td>Amazon</td>\n      <td>Electronics,iPad &amp; Tablets,All Tablets,Fire Ta...</td>\n      <td>841667104676,amazon/53004484,amazon/b01ahb9cn2...</td>\n      <td>Amazon</td>\n      <td>2017-01-13T00:00:00.000Z</td>\n      <td>2017-07-03T23:33:15Z</td>\n      <td>2017-06-07T09:04:00.000Z,2017-04-30T00:45:00.000Z</td>\n      <td>...</td>\n      <td>True</td>\n      <td>NaN</td>\n      <td>0.0</td>\n      <td>5.0</td>\n      <td>http://reviews.bestbuy.com/3545/5620406/review...</td>\n      <td>Inexpensive tablet for him to use and learn on...</td>\n      <td>Beginner tablet for our 9 year old son.</td>\n      <td>NaN</td>\n      <td>NaN</td>\n      <td>DaveZ</td>\n    </tr>\n    <tr>\n      <th>3</th>\n      <td>AVqkIhwDv8e3D1O-lebb</td>\n      <td>All-New Fire HD 8 Tablet, 8 HD Display, Wi-Fi,...</td>\n      <td>B01AHB9CN2</td>\n      <td>Amazon</td>\n      <td>Electronics,iPad &amp; Tablets,All Tablets,Fire Ta...</td>\n      <td>841667104676,amazon/53004484,amazon/b01ahb9cn2...</td>\n      <td>Amazon</td>\n      <td>2017-01-13T00:00:00.000Z</td>\n      <td>2017-07-03T23:33:15Z</td>\n      <td>2017-06-07T09:04:00.000Z,2017-04-30T00:45:00.000Z</td>\n      <td>...</td>\n      <td>True</td>\n      <td>NaN</td>\n      <td>0.0</td>\n      <td>4.0</td>\n      <td>http://reviews.bestbuy.com/3545/5620406/review...</td>\n      <td>I've had my Fire HD 8 two weeks now and I love...</td>\n      <td>Good!!!</td>\n      <td>NaN</td>\n      <td>NaN</td>\n      <td>Shacks</td>\n    </tr>\n    <tr>\n      <th>4</th>\n      <td>AVqkIhwDv8e3D1O-lebb</td>\n      <td>All-New Fire HD 8 Tablet, 8 HD Display, Wi-Fi,...</td>\n      <td>B01AHB9CN2</td>\n      <td>Amazon</td>\n      <td>Electronics,iPad &amp; Tablets,All Tablets,Fire Ta...</td>\n      <td>841667104676,amazon/53004484,amazon/b01ahb9cn2...</td>\n      <td>Amazon</td>\n      <td>2017-01-12T00:00:00.000Z</td>\n      <td>2017-07-03T23:33:15Z</td>\n      <td>2017-06-07T09:04:00.000Z,2017-04-30T00:45:00.000Z</td>\n      <td>...</td>\n      <td>True</td>\n      <td>NaN</td>\n      <td>0.0</td>\n      <td>5.0</td>\n      <td>http://reviews.bestbuy.com/3545/5620406/review...</td>\n      <td>I bought this for my grand daughter when she c...</td>\n      <td>Fantastic Tablet for kids</td>\n      <td>NaN</td>\n      <td>NaN</td>\n      <td>explore42</td>\n    </tr>\n  </tbody>\n</table>\n<p>5 rows × 21 columns</p>\n</div>"
          },
          "metadata": {}
        }
      ],
      "execution_count": 3,
      "metadata": {
        "jupyter": {
          "source_hidden": false,
          "outputs_hidden": false
        },
        "nteract": {
          "transient": {
            "deleting": false
          }
        },
        "gather": {
          "logged": 1691609831291
        }
      }
    },
    {
      "cell_type": "code",
      "source": [
        "ratings_counts = data_df[\"reviews.rating\"].value_counts()\n",
        "\n",
        "# Calculate percentages\n",
        "total_ratings = ratings_counts.sum()\n",
        "ratings_percentages = (ratings_counts / total_ratings) * 100\n",
        "\n",
        "# Create the bar plot\n",
        "plt.figure(figsize=(8, 6))\n",
        "plt.bar(ratings_counts.index, ratings_counts)\n",
        "plt.xlabel(\"Ratings\")\n",
        "plt.ylabel(\"Counts\")\n",
        "plt.title(\"Distribution of Ratings\")\n",
        "plt.show()"
      ],
      "outputs": [
        {
          "output_type": "display_data",
          "data": {
            "text/plain": "<Figure size 800x600 with 1 Axes>",
            "image/png": "[encoded data removed]"
          },
          "metadata": {}
        }
      ],
      "execution_count": 4,
      "metadata": {
        "jupyter": {
          "source_hidden": false,
          "outputs_hidden": false
        },
        "nteract": {
          "transient": {
            "deleting": false
          }
        },
        "gather": {
          "logged": 1691609833900
        }
      }
    },
    {
      "cell_type": "code",
      "source": [
        "num_helpful_data = data_df['reviews.numHelpful']\n",
        "\n",
        "# removing all 0\n",
        "num_helpful_data = num_helpful_data[num_helpful_data != 0]\n",
        "# Create the distribution plot\n",
        "plt.figure(figsize=(8, 6))\n",
        "plt.hist(num_helpful_data, bins=50, edgecolor='black')\n",
        "plt.xlabel('Number of Helpful Votes')\n",
        "plt.ylabel('Frequency')\n",
        "plt.title('Distribution of Helpful Votes')\n",
        "plt.show()"
      ],
      "outputs": [
        {
          "output_type": "display_data",
          "data": {
            "text/plain": "<Figure size 800x600 with 1 Axes>",
            "image/png": "[encoded data removed]"
          },
          "metadata": {}
        }
      ],
      "execution_count": 5,
      "metadata": {
        "jupyter": {
          "source_hidden": false,
          "outputs_hidden": false
        },
        "nteract": {
          "transient": {
            "deleting": false
          }
        },
        "gather": {
          "logged": 1691609836338
        }
      }
    },
    {
      "cell_type": "code",
      "source": [
        "openai.api_type = \"azure\"\n",
        "openai.api_base = \"https://open-ai-demo-jp.openai.azure.com/\"\n",
        "openai.api_version = \"\"\n",
        "openai.api_key = \"\"# insert your key here "
      ],
      "outputs": [],
      "execution_count": 6,
      "metadata": {
        "jupyter": {
          "source_hidden": false,
          "outputs_hidden": false
        },
        "nteract": {
          "transient": {
            "deleting": false
          }
        },
        "gather": {
          "logged": 1691609841532
        }
      }
    },
    {
      "cell_type": "markdown",
      "source": [
        "**Sentiment Analysis** : using AOAI for Sentimental analysis as positive, negative and Neutral "
      ],
      "metadata": {
        "nteract": {
          "transient": {
            "deleting": false
          }
        }
      }
    },
    {
      "cell_type": "code",
      "source": [
        "def analyze_my_review(review):\n",
        "    retries = 3\n",
        "    sentiment = None\n",
        "\n",
        "    while retries > 0:\n",
        "        messages = [\n",
        "            {\"role\": \"system\", \"content\": \"You are an AI language model trained to analyze and detect the sentiment of product reviews.\"},\n",
        "            {\"role\": \"user\", \"content\": f\"Analyze the following product review and determine if the sentiment is: positive, negative or neutral. Return only a single word, either POSITIVE, NEGATIVE or NEUTRAL: {review}\"}\n",
        "        ]\n",
        "\n",
        "        completion = openai.ChatCompletion.create(\n",
        "            engine=\"gm-aou-demov1\",\n",
        "            messages=messages,\n",
        "            # We only want a single word sentiment determination so we limit the results to 3 openAI tokens, which is about 1 word. \n",
        "            # If you set a higher max_tokens amount, openAI will generate a bunch of additional text for each response, which is not what we want it to do\n",
        "            max_tokens=3,\n",
        "            n=1,\n",
        "            stop=None,\n",
        "            temperature=0\n",
        "        )\n",
        "\n",
        "        response_text = completion.choices[0].message.content\n",
        "        # print the sentiment for each customer review, not necessary but it's nice to see the API doing something :)\n",
        "        print(response_text)\n",
        "\n",
        "        # Sometimes, the API will be overwhelmed or just buggy so we need to check if the response from the API was an error message or one of our allowed sentiment classifications.\n",
        "        # If the API returns something other than POSITIVE, NEGATIVE or NEUTRAL, we will retry that particular review that had a problem up to 3 times. This is usually enough.\n",
        "        if response_text in [\"POSITIVE\", \"NEGATIVE\", \"NEUTRAL\"]:\n",
        "            sentiment = response_text\n",
        "            break\n",
        "        else:\n",
        "            retries -= 1\n",
        "            time.sleep(0.5)\n",
        "    else:\n",
        "        sentiment = \"neutral\"\n",
        "\n",
        "    retries = 3\n",
        "   \n",
        "    # OpenAI will limit the number of times you can access their API if you have a free account. \n",
        "    # If you are using the Azure openAI free tier, you need to add a delay of a few seconds (i.e. 4 seconds) between API requests to avoid hitting the openai free tier API call rate limit.\n",
        "    # This code will still work with an openAI free tier account but you should limit the number of reviews you want to analyze (<100 at a time) to avoid running into random API problems.\n",
        "\n",
        "    time.sleep(0.5)\n",
        "\n",
        "    return sentiment"
      ],
      "outputs": [],
      "execution_count": null,
      "metadata": {
        "jupyter": {
          "source_hidden": false,
          "outputs_hidden": false
        },
        "nteract": {
          "transient": {
            "deleting": false
          }
        },
        "gather": {
          "logged": 1691611268259
        }
      }
    },
    {
      "cell_type": "code",
      "source": [
        "# Testing with a Proof of Concept -- First  5 rows only  \n",
        "\n",
        "df  = data_df.head(5) \n",
        "\n",
        "# Analyze each review using ChatGPT and save the results in a list called sentiments so we can access the results later\n",
        "sentiments = []\n",
        "\n",
        "# Here we loop through all of the reviews in our dataset and send them to the openAI API using our custom function from above\n",
        "for review in tqdm(df[\"reviews.text\"], desc=\"Processing reviews\"):\n",
        "    sentiment = analyze_my_review(review)\n",
        "    sentiments.append(sentiment)\n",
        "\n",
        "# Now let's save the openAI API results as an additional column in our original dataset\n",
        "df[\"sentiment\"] = sentiments\n",
        "df.head()"
      ],
      "outputs": [
        {
          "output_type": "stream",
          "name": "stderr",
          "text": "Processing reviews: 100%|██████████| 5/5 [00:03<00:00,  1.47it/s]\n\nA value is trying to be set on a copy of a slice from a DataFrame.\nTry using .loc[row_indexer,col_indexer] = value instead\n\nSee the caveats in the documentation: https://pandas.pydata.org/pandas-docs/stable/user_guide/indexing.html#returning-a-view-versus-a-copy\n"
        },
        {
          "output_type": "stream",
          "name": "stdout",
          "text": "POSITIVE\nPOSITIVE\nPOSITIVE\nPOSITIVE\nPOSITIVE\n"
        },
        {
          "output_type": "execute_result",
          "execution_count": 15,
          "data": {
            "text/plain": "                     id                                               name  \\\n0  AVqkIhwDv8e3D1O-lebb  All-New Fire HD 8 Tablet, 8 HD Display, Wi-Fi,...   \n1  AVqkIhwDv8e3D1O-lebb  All-New Fire HD 8 Tablet, 8 HD Display, Wi-Fi,...   \n2  AVqkIhwDv8e3D1O-lebb  All-New Fire HD 8 Tablet, 8 HD Display, Wi-Fi,...   \n3  AVqkIhwDv8e3D1O-lebb  All-New Fire HD 8 Tablet, 8 HD Display, Wi-Fi,...   \n4  AVqkIhwDv8e3D1O-lebb  All-New Fire HD 8 Tablet, 8 HD Display, Wi-Fi,...   \n\n        asins   brand                                         categories  \\\n0  B01AHB9CN2  Amazon  Electronics,iPad & Tablets,All Tablets,Fire Ta...   \n1  B01AHB9CN2  Amazon  Electronics,iPad & Tablets,All Tablets,Fire Ta...   \n2  B01AHB9CN2  Amazon  Electronics,iPad & Tablets,All Tablets,Fire Ta...   \n3  B01AHB9CN2  Amazon  Electronics,iPad & Tablets,All Tablets,Fire Ta...   \n4  B01AHB9CN2  Amazon  Electronics,iPad & Tablets,All Tablets,Fire Ta...   \n\n                                                keys manufacturer  \\\n0  841667104676,amazon/53004484,amazon/b01ahb9cn2...       Amazon   \n1  841667104676,amazon/53004484,amazon/b01ahb9cn2...       Amazon   \n2  841667104676,amazon/53004484,amazon/b01ahb9cn2...       Amazon   \n3  841667104676,amazon/53004484,amazon/b01ahb9cn2...       Amazon   \n4  841667104676,amazon/53004484,amazon/b01ahb9cn2...       Amazon   \n\n               reviews.date     reviews.dateAdded  \\\n0  2017-01-13T00:00:00.000Z  2017-07-03T23:33:15Z   \n1  2017-01-13T00:00:00.000Z  2017-07-03T23:33:15Z   \n2  2017-01-13T00:00:00.000Z  2017-07-03T23:33:15Z   \n3  2017-01-13T00:00:00.000Z  2017-07-03T23:33:15Z   \n4  2017-01-12T00:00:00.000Z  2017-07-03T23:33:15Z   \n\n                                    reviews.dateSeen  ... reviews.id  \\\n0  2017-06-07T09:04:00.000Z,2017-04-30T00:45:00.000Z  ...        NaN   \n1  2017-06-07T09:04:00.000Z,2017-04-30T00:45:00.000Z  ...        NaN   \n2  2017-06-07T09:04:00.000Z,2017-04-30T00:45:00.000Z  ...        NaN   \n3  2017-06-07T09:04:00.000Z,2017-04-30T00:45:00.000Z  ...        NaN   \n4  2017-06-07T09:04:00.000Z,2017-04-30T00:45:00.000Z  ...        NaN   \n\n  reviews.numHelpful  reviews.rating  \\\n0                0.0             5.0   \n1                0.0             5.0   \n2                0.0             5.0   \n3                0.0             4.0   \n4                0.0             5.0   \n\n                                  reviews.sourceURLs  \\\n0  http://reviews.bestbuy.com/3545/5620406/review...   \n1  http://reviews.bestbuy.com/3545/5620406/review...   \n2  http://reviews.bestbuy.com/3545/5620406/review...   \n3  http://reviews.bestbuy.com/3545/5620406/review...   \n4  http://reviews.bestbuy.com/3545/5620406/review...   \n\n                                        reviews.text  \\\n0  This product so far has not disappointed. My c...   \n1  great for beginner or experienced person. Boug...   \n2  Inexpensive tablet for him to use and learn on...   \n3  I've had my Fire HD 8 two weeks now and I love...   \n4  I bought this for my grand daughter when she c...   \n\n                             reviews.title reviews.userCity  \\\n0                                   Kindle              NaN   \n1                                very fast              NaN   \n2  Beginner tablet for our 9 year old son.              NaN   \n3                                  Good!!!              NaN   \n4                Fantastic Tablet for kids              NaN   \n\n  reviews.userProvince  reviews.username  sentiment  \n0                  NaN           Adapter   POSITIVE  \n1                  NaN            truman   POSITIVE  \n2                  NaN             DaveZ   POSITIVE  \n3                  NaN            Shacks   POSITIVE  \n4                  NaN         explore42   POSITIVE  \n\n[5 rows x 22 columns]",
            "text/html": "<div>\n<style scoped>\n    .dataframe tbody tr th:only-of-type {\n        vertical-align: middle;\n    }\n\n    .dataframe tbody tr th {\n        vertical-align: top;\n    }\n\n    .dataframe thead th {\n        text-align: right;\n    }\n</style>\n<table border=\"1\" class=\"dataframe\">\n  <thead>\n    <tr style=\"text-align: right;\">\n      <th></th>\n      <th>id</th>\n      <th>name</th>\n      <th>asins</th>\n      <th>brand</th>\n      <th>categories</th>\n      <th>keys</th>\n      <th>manufacturer</th>\n      <th>reviews.date</th>\n      <th>reviews.dateAdded</th>\n      <th>reviews.dateSeen</th>\n      <th>...</th>\n      <th>reviews.id</th>\n      <th>reviews.numHelpful</th>\n      <th>reviews.rating</th>\n      <th>reviews.sourceURLs</th>\n      <th>reviews.text</th>\n      <th>reviews.title</th>\n      <th>reviews.userCity</th>\n      <th>reviews.userProvince</th>\n      <th>reviews.username</th>\n      <th>sentiment</th>\n    </tr>\n  </thead>\n  <tbody>\n    <tr>\n      <th>0</th>\n      <td>AVqkIhwDv8e3D1O-lebb</td>\n      <td>All-New Fire HD 8 Tablet, 8 HD Display, Wi-Fi,...</td>\n      <td>B01AHB9CN2</td>\n      <td>Amazon</td>\n      <td>Electronics,iPad &amp; Tablets,All Tablets,Fire Ta...</td>\n      <td>841667104676,amazon/53004484,amazon/b01ahb9cn2...</td>\n      <td>Amazon</td>\n      <td>2017-01-13T00:00:00.000Z</td>\n      <td>2017-07-03T23:33:15Z</td>\n      <td>2017-06-07T09:04:00.000Z,2017-04-30T00:45:00.000Z</td>\n      <td>...</td>\n      <td>NaN</td>\n      <td>0.0</td>\n      <td>5.0</td>\n      <td>http://reviews.bestbuy.com/3545/5620406/review...</td>\n      <td>This product so far has not disappointed. My c...</td>\n      <td>Kindle</td>\n      <td>NaN</td>\n      <td>NaN</td>\n      <td>Adapter</td>\n      <td>POSITIVE</td>\n    </tr>\n    <tr>\n      <th>1</th>\n      <td>AVqkIhwDv8e3D1O-lebb</td>\n      <td>All-New Fire HD 8 Tablet, 8 HD Display, Wi-Fi,...</td>\n      <td>B01AHB9CN2</td>\n      <td>Amazon</td>\n      <td>Electronics,iPad &amp; Tablets,All Tablets,Fire Ta...</td>\n      <td>841667104676,amazon/53004484,amazon/b01ahb9cn2...</td>\n      <td>Amazon</td>\n      <td>2017-01-13T00:00:00.000Z</td>\n      <td>2017-07-03T23:33:15Z</td>\n      <td>2017-06-07T09:04:00.000Z,2017-04-30T00:45:00.000Z</td>\n      <td>...</td>\n      <td>NaN</td>\n      <td>0.0</td>\n      <td>5.0</td>\n      <td>http://reviews.bestbuy.com/3545/5620406/review...</td>\n      <td>great for beginner or experienced person. Boug...</td>\n      <td>very fast</td>\n      <td>NaN</td>\n      <td>NaN</td>\n      <td>truman</td>\n      <td>POSITIVE</td>\n    </tr>\n    <tr>\n      <th>2</th>\n      <td>AVqkIhwDv8e3D1O-lebb</td>\n      <td>All-New Fire HD 8 Tablet, 8 HD Display, Wi-Fi,...</td>\n      <td>B01AHB9CN2</td>\n      <td>Amazon</td>\n      <td>Electronics,iPad &amp; Tablets,All Tablets,Fire Ta...</td>\n      <td>841667104676,amazon/53004484,amazon/b01ahb9cn2...</td>\n      <td>Amazon</td>\n      <td>2017-01-13T00:00:00.000Z</td>\n      <td>2017-07-03T23:33:15Z</td>\n      <td>2017-06-07T09:04:00.000Z,2017-04-30T00:45:00.000Z</td>\n      <td>...</td>\n      <td>NaN</td>\n      <td>0.0</td>\n      <td>5.0</td>\n      <td>http://reviews.bestbuy.com/3545/5620406/review...</td>\n      <td>Inexpensive tablet for him to use and learn on...</td>\n      <td>Beginner tablet for our 9 year old son.</td>\n      <td>NaN</td>\n      <td>NaN</td>\n      <td>DaveZ</td>\n      <td>POSITIVE</td>\n    </tr>\n    <tr>\n      <th>3</th>\n      <td>AVqkIhwDv8e3D1O-lebb</td>\n      <td>All-New Fire HD 8 Tablet, 8 HD Display, Wi-Fi,...</td>\n      <td>B01AHB9CN2</td>\n      <td>Amazon</td>\n      <td>Electronics,iPad &amp; Tablets,All Tablets,Fire Ta...</td>\n      <td>841667104676,amazon/53004484,amazon/b01ahb9cn2...</td>\n      <td>Amazon</td>\n      <td>2017-01-13T00:00:00.000Z</td>\n      <td>2017-07-03T23:33:15Z</td>\n      <td>2017-06-07T09:04:00.000Z,2017-04-30T00:45:00.000Z</td>\n      <td>...</td>\n      <td>NaN</td>\n      <td>0.0</td>\n      <td>4.0</td>\n      <td>http://reviews.bestbuy.com/3545/5620406/review...</td>\n      <td>I've had my Fire HD 8 two weeks now and I love...</td>\n      <td>Good!!!</td>\n      <td>NaN</td>\n      <td>NaN</td>\n      <td>Shacks</td>\n      <td>POSITIVE</td>\n    </tr>\n    <tr>\n      <th>4</th>\n      <td>AVqkIhwDv8e3D1O-lebb</td>\n      <td>All-New Fire HD 8 Tablet, 8 HD Display, Wi-Fi,...</td>\n      <td>B01AHB9CN2</td>\n      <td>Amazon</td>\n      <td>Electronics,iPad &amp; Tablets,All Tablets,Fire Ta...</td>\n      <td>841667104676,amazon/53004484,amazon/b01ahb9cn2...</td>\n      <td>Amazon</td>\n      <td>2017-01-12T00:00:00.000Z</td>\n      <td>2017-07-03T23:33:15Z</td>\n      <td>2017-06-07T09:04:00.000Z,2017-04-30T00:45:00.000Z</td>\n      <td>...</td>\n      <td>NaN</td>\n      <td>0.0</td>\n      <td>5.0</td>\n      <td>http://reviews.bestbuy.com/3545/5620406/review...</td>\n      <td>I bought this for my grand daughter when she c...</td>\n      <td>Fantastic Tablet for kids</td>\n      <td>NaN</td>\n      <td>NaN</td>\n      <td>explore42</td>\n      <td>POSITIVE</td>\n    </tr>\n  </tbody>\n</table>\n<p>5 rows × 22 columns</p>\n</div>"
          },
          "metadata": {}
        }
      ],
      "execution_count": 15,
      "metadata": {
        "jupyter": {
          "source_hidden": false,
          "outputs_hidden": false
        },
        "nteract": {
          "transient": {
            "deleting": false
          }
        },
        "gather": {
          "logged": 1691610112661
        }
      }
    },
    {
      "cell_type": "markdown",
      "source": [
        "****"
      ],
      "metadata": {
        "nteract": {
          "transient": {
            "deleting": false
          }
        }
      }
    },
    {
      "cell_type": "code",
      "source": [
        "import pandas as pd \n",
        "# Write the DataFrame to an Excel file\n",
        "df.to_excel('data/export_test.xlsx')"
      ],
      "outputs": [],
      "execution_count": 26,
      "metadata": {
        "jupyter": {
          "source_hidden": false,
          "outputs_hidden": false
        },
        "nteract": {
          "transient": {
            "deleting": false
          }
        },
        "gather": {
          "logged": 1691502352873
        }
      }
    },
    {
      "cell_type": "markdown",
      "source": [
        "** Summarize A Review** : You can also Summarize a review based on specific product of focus.\n",
        "\n",
        "\n",
        "**For example ** : let us say you only want to focus on one product and summarize all views on what people are saying - you can do that as well.\n",
        "\n",
        "\n",
        "We will use example of **All-New Fire HD 8 Tablet, 8 HD Display, Wi-Fi, 16 GB - Includes Special Offers, Magenta** as the product"
      ],
      "metadata": {
        "nteract": {
          "transient": {
            "deleting": false
          }
        }
      }
    },
    {
      "cell_type": "code",
      "source": [
        "# Use this code block if you ONLY want to summarize long reviews into short, 75 word versions. This code will NOT try to classify the sentiment of each review\n",
        "def summarize_review(review):\n",
        "    retries = 3\n",
        "    summary = None\n",
        "\n",
        "    while retries > 0:\n",
        "        # This time, we are only summarizing the reviews, not determining the sentiment so we change the prompt (ie command) for chatGPT to the following\n",
        "        messages = [\n",
        "            {\"role\": \"system\", \"content\": \"You are an AI language model trained to analyze and summarize product reviews.\"},\n",
        "            {\"role\": \"user\", \"content\": f\"Summarize the following product review, highlighting pros and cons: {review}\"}\n",
        "        ]\n",
        "\n",
        "        \n",
        "        completion2 = openai.ChatCompletion.create(\n",
        "           engine=\"gm-aou-demov1\",\n",
        "            messages=messages,\n",
        "            # We want to limit the summarizes to about 75 words (which is around 100 tokens). If you want longer review summaries, increase the max_tokens amount\n",
        "            max_tokens=100,\n",
        "            n=1,\n",
        "            stop=None,\n",
        "            temperature=0.8\n",
        "        )\n",
        "\n",
        "        response_text = completion2.choices[0].message.content\n",
        "        # This is optional but it's nice to see how the reviews are being summarized to make sure something isn't wrong with the input file or API results\n",
        "        print(response_text)\n",
        "        \n",
        "        # This is our quality control check. If the API has an error and doesn't generate a summary, we will retry the review 3 times. \n",
        "        if response_text:\n",
        "            summary = response_text\n",
        "            break\n",
        "        else:\n",
        "            retries -= 1\n",
        "            time.sleep(0.5)\n",
        "    else:\n",
        "        summary = \"Summary not available.\"\n",
        "\n",
        "    # OpenAI will limit the number of times you can access their API if you have a free account. \n",
        "    # If you are using the openAI free tier, you need to add a delay of a few seconds (i.e. 4 seconds) between API requests to avoid hitting the openai free tier API call rate limit.\n",
        "    # This code will still work with an openAI free tier account but you should limit the number of reviews you want to analyze (<100 at a time) to avoid running into random API problems.\n",
        "\n",
        "    time.sleep(0.5)\n",
        "\n",
        "    return summary"
      ],
      "outputs": [],
      "execution_count": 17,
      "metadata": {
        "jupyter": {
          "source_hidden": false,
          "outputs_hidden": false
        },
        "nteract": {
          "transient": {
            "deleting": false
          }
        },
        "gather": {
          "logged": 1691610119493
        }
      }
    },
    {
      "cell_type": "code",
      "source": [
        "# Testing with a Proof of Concept --All-New Fire HD 8 Tablet, 8 HD Display, Wi-Fi, 16 GB - Includes Special Offers, Magenta\n",
        "df_1 = data_df[data_df[\"name\"]=='All-New Fire HD 8 Tablet, 8 HD Display, Wi-Fi, 16 GB - Includes Special Offers, Magenta']"
      ],
      "outputs": [],
      "execution_count": 18,
      "metadata": {
        "jupyter": {
          "source_hidden": false,
          "outputs_hidden": false
        },
        "nteract": {
          "transient": {
            "deleting": false
          }
        },
        "gather": {
          "logged": 1691610122329
        }
      }
    },
    {
      "cell_type": "code",
      "source": [
        "# Testing with a Proof of Concept --All-New Fire HD 8 Tablet, 8 HD Display, Wi-Fi, 16 GB - Includes Special Offers, Magenta\n",
        "# After chatGPT summarizes the review, we save the summary to a list called summaries\n",
        "\n",
        "summaries = []\n",
        "\n",
        "for review in tqdm(df[\"reviews.text\"], desc=\"Processing reviews\"):\n",
        "    summary = summarize_review(review)\n",
        "    summaries.append(summary)\n",
        "\n",
        "# Now we add the review summaries to the original input dataframe\n",
        "df[\"summary\"] = summaries\n",
        "\n",
        "\n"
      ],
      "outputs": [
        {
          "output_type": "stream",
          "name": "stderr",
          "text": "Processing reviews: 100%|██████████| 5/5 [00:11<00:00,  2.25s/it]\n\nA value is trying to be set on a copy of a slice from a DataFrame.\nTry using .loc[row_indexer,col_indexer] = value instead\n\nSee the caveats in the documentation: https://pandas.pydata.org/pandas-docs/stable/user_guide/indexing.html#returning-a-view-versus-a-copy\n"
        },
        {
          "output_type": "stream",
          "name": "stdout",
          "text": "This review highlights the positive aspects of the product, including its ability to keep children entertained and the ease of monitoring and controlling content. However, it does not mention any negative aspects or cons of the product.\nThis product review is very brief and to the point. The reviewer states that the product is great for both beginners and experienced individuals and was purchased as a gift for someone who loves it. There is no clear mention of any specific pros or cons.\nThe reviewer is satisfied with the inexpensive tablet as it serves the purpose of learning and is a step up from their previous device. They also mention that they were able to learn how to use Skype on the tablet. However, there is no mention of any cons or drawbacks associated with the product.\nThe reviewer is very satisfied with the Fire HD 8 and thinks it is a great value. One of the pros is its compatibility with Amazon Prime content and the ability to download movies for later viewing. The screen resolution is also praised for its crispness and brightness, surpassing that of the more expensive iPad Pro. Additionally, the tablet's thin build and glossy finish are noteworthy. There are no cons mentioned in this review.\nThis is a positive review of a children's tablet purchased for a grandchild. The reviewer highlights the ease of use and the ability to restrict access to inappropriate content based on the child's age. They also mention the additional storage capacity added with an SD card. The reviewer believes that the tablet is the best product for its price and provides all the basic functions that most people will need. The only cons mentioned are the tablet's speed and capacity, which can be improved with more expensive options.\n"
        }
      ],
      "execution_count": 19,
      "metadata": {
        "jupyter": {
          "source_hidden": false,
          "outputs_hidden": false
        },
        "nteract": {
          "transient": {
            "deleting": false
          }
        },
        "gather": {
          "logged": 1691610135692
        }
      }
    },
    {
      "cell_type": "markdown",
      "source": [
        "** Summarize over the pros and cons **"
      ],
      "metadata": {
        "nteract": {
          "transient": {
            "deleting": false
          }
        }
      }
    },
    {
      "cell_type": "code",
      "source": [
        "def generate_proscons_list(text):\n",
        "    word_blocks = text.split(' ')\n",
        "    block_size = 2500\n",
        "    blocks = [' '.join(word_blocks[i:i + block_size]) for i in range(0, len(word_blocks), block_size)]\n",
        "\n",
        "    proscons = []\n",
        "\n",
        "    for block in tqdm(blocks, desc=\"Processing blocks\", unit=\"block\"):\n",
        "        messages = [\n",
        "            {\"role\": \"system\", \"content\": \"You are an AI language model trained to create a list of the most common pros and cons for products based on product review summaries.\"},\n",
        "            {\"role\": \"user\", \"content\": f\"Based on the following product review summaries, create a list of the most common pros and cons for the product: {block}\"}\n",
        "        ]\n",
        "\n",
        "        completion = openai.ChatCompletion.create(\n",
        "            engine=\"gm-aou-demov1\",\n",
        "            messages=messages,\n",
        "            # You can change the max_tokens amount to increase or decrease the length of the results pros and cons list. If you increase it too much, you will exceed chatGPT's limits though.\n",
        "            max_tokens=300,\n",
        "            n=1,\n",
        "            stop=None,\n",
        "            # You can adjust how \"creative\" (i.e. true to the original reviewer's intent) chatGPT will be with it's summary be adjusting this temperature value. 0.7 is usually a safe amount\n",
        "            temperature=0.7\n",
        "        )\n",
        "\n",
        "        procon = completion.choices[0].message.content\n",
        "        proscons.append(procon)\n",
        "\n",
        "    # Combine the pros and cons that chatGPT found into a list \n",
        "    combined_proscons = \"\\n\\n\".join(proscons)\n",
        "    return combined_proscons\n"
      ],
      "outputs": [],
      "execution_count": 28,
      "metadata": {
        "jupyter": {
          "source_hidden": false,
          "outputs_hidden": false
        },
        "nteract": {
          "transient": {
            "deleting": false
          }
        },
        "gather": {
          "logged": 1691447315644
        }
      }
    },
    {
      "cell_type": "code",
      "source": [
        "# Combine all of the pros and cons from the various review chunks into one list \n",
        "all_reviews = \"\\n\".join(df[\"reviews.text\"].tolist())\n",
        "\n",
        "# This is the call to the function we created above that will trigger the API call\n",
        "summary_proscons = generate_proscons_list(all_reviews)\n",
        "\n",
        "# Print the list of pros and cons (optional step)\n",
        "print(summary_proscons)\n",
        "\n",
        "\n",
        "\n",
        "# Save the resulting list of pros and cons to a new Excel file for further offline processing\n",
        "df_proscons = pd.DataFrame()\n",
        "list_proscons = []\n",
        "list_proscons.append(summary_proscons)\n",
        "df_proscons[\"pros_cons\"] = list_proscons"
      ],
      "outputs": [
        {
          "output_type": "stream",
          "name": "stderr",
          "text": "Processing blocks: 100%|██████████| 1/1 [00:02<00:00,  2.34s/block]\n"
        },
        {
          "output_type": "stream",
          "name": "stdout",
          "text": "Pros:\n- Easy to use and monitor content\n- Great for beginners and experienced users\n- Inexpensive and good value for money\n- Good screen quality and brightness\n- Sleek and futuristic design\n- Simple to set up with age-appropriate content filters\n- Plenty of storage with additional SD card\n\nCons:\n- None mentioned in the review summaries\n"
        }
      ],
      "execution_count": 30,
      "metadata": {
        "jupyter": {
          "source_hidden": false,
          "outputs_hidden": false
        },
        "nteract": {
          "transient": {
            "deleting": false
          }
        },
        "gather": {
          "logged": 1691447390813
        }
      }
    },
    {
      "cell_type": "code",
      "source": [
        "df_proscons.head()"
      ],
      "outputs": [
        {
          "output_type": "execute_result",
          "execution_count": 31,
          "data": {
            "text/plain": "                                           pros_cons\n0  Pros:\\n- Easy to use and monitor content\\n- Gr...",
            "text/html": "<div>\n<style scoped>\n    .dataframe tbody tr th:only-of-type {\n        vertical-align: middle;\n    }\n\n    .dataframe tbody tr th {\n        vertical-align: top;\n    }\n\n    .dataframe thead th {\n        text-align: right;\n    }\n</style>\n<table border=\"1\" class=\"dataframe\">\n  <thead>\n    <tr style=\"text-align: right;\">\n      <th></th>\n      <th>pros_cons</th>\n    </tr>\n  </thead>\n  <tbody>\n    <tr>\n      <th>0</th>\n      <td>Pros:\\n- Easy to use and monitor content\\n- Gr...</td>\n    </tr>\n  </tbody>\n</table>\n</div>"
          },
          "metadata": {}
        }
      ],
      "execution_count": 31,
      "metadata": {
        "jupyter": {
          "source_hidden": false,
          "outputs_hidden": false
        },
        "nteract": {
          "transient": {
            "deleting": false
          }
        },
        "gather": {
          "logged": 1691447409517
        }
      }
    },
    {
      "cell_type": "code",
      "source": [
        "def generate_improvement_suggestions(text):\n",
        "    # This code splits the total reviews text into blocks of 2,500 tokens (about 1,800 words) to comply with openAI's API limits\n",
        "    word_blocks = text.split(' ')\n",
        "    block_size = 2500\n",
        "    blocks = [' '.join(word_blocks[i:i + block_size]) for i in range(0, len(word_blocks), block_size)]\n",
        "\n",
        "    suggestions = []\n",
        "\n",
        "    for block in tqdm(blocks, desc=\"Processing blocks\", unit=\"block\"):\n",
        "        # Here we specify the role for chatGPT to assume and give it the command to suggest 10 product improvements based on the block of customer review data it just read\n",
        "        messages = [\n",
        "            {\"role\": \"system\", \"content\": \"You are an AI language model trained to analyze product reviews and generate suggestions for product improvements.\"},\n",
        "            {\"role\": \"user\", \"content\": f\"Based on the following product reviews, suggest 10 product improvements: {block}\"}\n",
        "        ]\n",
        "\n",
        "        completion = openai.ChatCompletion.create(\n",
        "            engine=\"gm-aou-demov1\",\n",
        "            messages=messages,\n",
        "            max_tokens=300,\n",
        "            n=1,\n",
        "            stop=None,\n",
        "            temperature=0.7\n",
        "        )\n",
        "\n",
        "        suggestion = completion.choices[0].message.content\n",
        "        suggestions.append(suggestion)\n",
        "\n",
        "    # Combine all suggestions together\n",
        "    combined_suggestions = \"\\n\\n\".join(suggestions)\n",
        "    return combined_suggestions"
      ],
      "outputs": [],
      "execution_count": 37,
      "metadata": {
        "jupyter": {
          "source_hidden": false,
          "outputs_hidden": false
        },
        "nteract": {
          "transient": {
            "deleting": false
          }
        },
        "gather": {
          "logged": 1691448327036
        }
      }
    },
    {
      "cell_type": "code",
      "source": [
        "# Combine all of the suggestions into a single text\n",
        "review_improvements = \"\\n\".join(df[\"reviews.text\"].tolist())\n",
        "\n",
        "# Call the custom function we created above to generate improvement suggestions from the review data\n",
        "improvement_suggestions = generate_improvement_suggestions(review_improvements)\n",
        "\n",
        "# Print the improvement suggestions (optional step, you can remove it)\n",
        "print(improvement_suggestions)\n",
        "\n",
        "# Save the resulting list of product improvement suggestions to a new Excel file\n",
        "df_improvements = pd.DataFrame()\n",
        "list_improvements = []\n",
        "list_improvements.append(improvement_suggestions)\n",
        "df_improvements[\"improvement_suggestions\"] = list_improvements"
      ],
      "outputs": [
        {
          "output_type": "stream",
          "name": "stderr",
          "text": "Processing blocks: 100%|██████████| 1/1 [00:03<00:00,  3.92s/block]\n"
        },
        {
          "output_type": "stream",
          "name": "stdout",
          "text": "Based on the reviews, here are 10 product improvements:\n\n1. Add more parental control features to ensure children's safety while using the tablet.\n2. Improve the user interface to make it more intuitive and user-friendly.\n3. Increase the battery life of the tablet to provide longer usage time.\n4. Enhance the storage capacity of the tablet to accommodate more apps and files.\n5. Introduce more colors and designs to provide users with more options.\n6. Improve the camera quality to provide users with better photos and videos.\n7. Increase the processing speed to make the tablet more responsive.\n8. Add more pre-installed apps to offer a wider variety of features to users.\n9. Provide regular software updates to ensure the tablet's performance and security.\n10. Make the tablet more durable to withstand accidental drops and bumps.\n"
        }
      ],
      "execution_count": 38,
      "metadata": {
        "jupyter": {
          "source_hidden": false,
          "outputs_hidden": false
        },
        "nteract": {
          "transient": {
            "deleting": false
          }
        },
        "gather": {
          "logged": 1691448333700
        }
      }
    },
    {
      "cell_type": "code",
      "source": [
        "df_improvements.head()"
      ],
      "outputs": [
        {
          "output_type": "execute_result",
          "execution_count": 39,
          "data": {
            "text/plain": "                             improvement_suggestions\n0  Based on the reviews, here are 10 product impr...",
            "text/html": "<div>\n<style scoped>\n    .dataframe tbody tr th:only-of-type {\n        vertical-align: middle;\n    }\n\n    .dataframe tbody tr th {\n        vertical-align: top;\n    }\n\n    .dataframe thead th {\n        text-align: right;\n    }\n</style>\n<table border=\"1\" class=\"dataframe\">\n  <thead>\n    <tr style=\"text-align: right;\">\n      <th></th>\n      <th>improvement_suggestions</th>\n    </tr>\n  </thead>\n  <tbody>\n    <tr>\n      <th>0</th>\n      <td>Based on the reviews, here are 10 product impr...</td>\n    </tr>\n  </tbody>\n</table>\n</div>"
          },
          "metadata": {}
        }
      ],
      "execution_count": 39,
      "metadata": {
        "jupyter": {
          "source_hidden": false,
          "outputs_hidden": false
        },
        "nteract": {
          "transient": {
            "deleting": false
          }
        },
        "gather": {
          "logged": 1691448377596
        }
      }
    }
  ],
  "metadata": {
    "kernelspec": {
      "name": "python38-azureml",
      "language": "python",
      "display_name": "Python 3.8 - AzureML"
    },
    "language_info": {
      "name": "python",
      "version": "3.8.5",
      "mimetype": "text/x-python",
      "codemirror_mode": {
        "name": "ipython",
        "version": 3
      },
      "pygments_lexer": "ipython3",
      "nbconvert_exporter": "python",
      "file_extension": ".py"
    },
    "microsoft": {
      "ms_spell_check": {
        "ms_spell_check_language": "en"
      },
      "host": {
        "AzureML": {
          "notebookHasBeenCompleted": true
        }
      }
    },
    "kernel_info": {
      "name": "python38-azureml"
    },
    "nteract": {
      "version": "nteract-front-end@1.0.0"
    }
  },
  "nbformat": 4,
  "nbformat_minor": 2
}